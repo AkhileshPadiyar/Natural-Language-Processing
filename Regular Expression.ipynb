{
  "nbformat": 4,
  "nbformat_minor": 0,
  "metadata": {
    "colab": {
      "provenance": []
    },
    "kernelspec": {
      "name": "python3",
      "display_name": "Python 3"
    },
    "language_info": {
      "name": "python"
    }
  },
  "cells": [
    {
      "cell_type": "markdown",
      "source": [],
      "metadata": {
        "id": "xbWMQHITtyX6"
      }
    },
    {
      "cell_type": "code",
      "execution_count": null,
      "metadata": {
        "id": "ZHgWGZJhs783"
      },
      "outputs": [],
      "source": [
        "text = \"Hi, my name is Sarah and you can reach me at akpadiyar@gmail.com or call me at 4155550198\""
      ]
    },
    {
      "cell_type": "code",
      "source": [
        "tokens = text.split(\" \")"
      ],
      "metadata": {
        "id": "oqb0-9sntL2j"
      },
      "execution_count": null,
      "outputs": []
    },
    {
      "cell_type": "code",
      "source": [
        "tokens"
      ],
      "metadata": {
        "colab": {
          "base_uri": "https://localhost:8080/"
        },
        "id": "12gIliqmtTXi",
        "outputId": "c74d2f40-1dc5-433a-c03b-dd973b53395b"
      },
      "execution_count": null,
      "outputs": [
        {
          "output_type": "execute_result",
          "data": {
            "text/plain": [
              "['Hi,',\n",
              " 'my',\n",
              " 'name',\n",
              " 'is',\n",
              " 'Sarah',\n",
              " 'and',\n",
              " 'you',\n",
              " 'can',\n",
              " 'reach',\n",
              " 'me',\n",
              " 'at',\n",
              " 'akpadiyar@gmail.com',\n",
              " 'or',\n",
              " 'call',\n",
              " 'me',\n",
              " 'at',\n",
              " '4155550198']"
            ]
          },
          "metadata": {},
          "execution_count": 59
        }
      ]
    },
    {
      "cell_type": "code",
      "source": [
        "lst = [x for x in tokens if x.isnumeric() and len(x) == 10]"
      ],
      "metadata": {
        "id": "a6KyIxlMv0Fq"
      },
      "execution_count": null,
      "outputs": []
    },
    {
      "cell_type": "code",
      "source": [
        "lst"
      ],
      "metadata": {
        "colab": {
          "base_uri": "https://localhost:8080/"
        },
        "id": "ldSsM6mgv6La",
        "outputId": "2d4d173c-407a-41a3-e2f1-cd7ca9a19d54"
      },
      "execution_count": null,
      "outputs": [
        {
          "output_type": "execute_result",
          "data": {
            "text/plain": [
              "['4155550198']"
            ]
          },
          "metadata": {},
          "execution_count": 61
        }
      ]
    },
    {
      "cell_type": "code",
      "source": [
        "import re"
      ],
      "metadata": {
        "id": "VjEk09n2tpKy"
      },
      "execution_count": null,
      "outputs": []
    },
    {
      "cell_type": "code",
      "source": [
        "regex = re.compile('[a-z0-9]+@[a-z]+\\.[a-z]{2,3}')"
      ],
      "metadata": {
        "id": "co_FsiVat3ZD"
      },
      "execution_count": null,
      "outputs": []
    },
    {
      "cell_type": "code",
      "source": [
        "for words in tokens:\n",
        "  if(regex.match(words) is not None):\n",
        "    lst.append(words)"
      ],
      "metadata": {
        "id": "prJJ7pYyuI9C"
      },
      "execution_count": null,
      "outputs": []
    },
    {
      "cell_type": "code",
      "source": [
        "lst"
      ],
      "metadata": {
        "colab": {
          "base_uri": "https://localhost:8080/"
        },
        "id": "xm1oSzywvF4y",
        "outputId": "6b9c8ac7-d222-4ee1-de05-d5a233c46efe"
      },
      "execution_count": null,
      "outputs": [
        {
          "output_type": "execute_result",
          "data": {
            "text/plain": [
              "['4155550198', 'akpadiyar@gmail.com']"
            ]
          },
          "metadata": {},
          "execution_count": 65
        }
      ]
    },
    {
      "cell_type": "code",
      "source": [
        "phno = re.compile('^\\d{10}$')"
      ],
      "metadata": {
        "id": "w9zrJPXBvGRi"
      },
      "execution_count": null,
      "outputs": []
    },
    {
      "cell_type": "code",
      "source": [
        "for words in tokens:\n",
        "  if(phno.match(words) is not None):\n",
        "    lst.append(words)"
      ],
      "metadata": {
        "id": "GKJkLGEIymwz"
      },
      "execution_count": null,
      "outputs": []
    },
    {
      "cell_type": "code",
      "source": [
        "lst"
      ],
      "metadata": {
        "colab": {
          "base_uri": "https://localhost:8080/"
        },
        "id": "M226y8_dyt5T",
        "outputId": "3d6aad5d-86cc-4af9-82cf-56cf9bf65801"
      },
      "execution_count": null,
      "outputs": [
        {
          "output_type": "execute_result",
          "data": {
            "text/plain": [
              "['4155550198', 'akpadiyar@gmail.com', '4155550198']"
            ]
          },
          "metadata": {},
          "execution_count": 84
        }
      ]
    },
    {
      "cell_type": "code",
      "source": [
        "if(phno.match('1234567890') is not None):\n",
        "  print(\"yes\")\n",
        "else: print(\"No\")"
      ],
      "metadata": {
        "colab": {
          "base_uri": "https://localhost:8080/"
        },
        "id": "mk_VwAd9zbSD",
        "outputId": "4b1dc269-e045-48e9-f352-f28b8bc7a326"
      },
      "execution_count": null,
      "outputs": [
        {
          "output_type": "stream",
          "name": "stdout",
          "text": [
            "yes\n"
          ]
        }
      ]
    },
    {
      "cell_type": "code",
      "source": [
        "v = \"akhilesh@geu.ac.in \""
      ],
      "metadata": {
        "id": "espVq_JF0LrD"
      },
      "execution_count": null,
      "outputs": []
    },
    {
      "cell_type": "code",
      "source": [
        "exp1 = re.compile('^[a-z]+@[a-z]+\\.[a-z]+\\.?[a-z]+?$')"
      ],
      "metadata": {
        "id": "KJkgQgrA0_Sk"
      },
      "execution_count": null,
      "outputs": []
    },
    {
      "cell_type": "code",
      "source": [
        "print(\"Yes\" if exp1.match(v) else \"No\")"
      ],
      "metadata": {
        "colab": {
          "base_uri": "https://localhost:8080/"
        },
        "id": "GUUQ-aqP1Nsz",
        "outputId": "d195fae0-af2b-4e86-df8e-ff83fb856702"
      },
      "execution_count": null,
      "outputs": [
        {
          "output_type": "stream",
          "name": "stdout",
          "text": [
            "Yes\n"
          ]
        }
      ]
    },
    {
      "cell_type": "code",
      "source": [
        "v12 = \"akhilesh@geu.acin\""
      ],
      "metadata": {
        "id": "glBwfITx442t"
      },
      "execution_count": null,
      "outputs": []
    },
    {
      "cell_type": "code",
      "source": [
        "print(\"yes\" if exp1.match(v12) else \"NO\")"
      ],
      "metadata": {
        "colab": {
          "base_uri": "https://localhost:8080/"
        },
        "id": "OkFrFWx749Gt",
        "outputId": "16551d89-aa2c-47e8-e853-829111009b0c"
      },
      "execution_count": null,
      "outputs": [
        {
          "output_type": "stream",
          "name": "stdout",
          "text": [
            "yes\n"
          ]
        }
      ]
    },
    {
      "cell_type": "code",
      "source": [
        "v1 = \"1234567890 9760357763 0123456789\""
      ],
      "metadata": {
        "id": "MHbvjzMy1YdD"
      },
      "execution_count": null,
      "outputs": []
    },
    {
      "cell_type": "code",
      "source": [
        "exp2 = re.compile('^[1-9]\\\\d{9}$')"
      ],
      "metadata": {
        "id": "LfC3OWOY4RqE"
      },
      "execution_count": null,
      "outputs": []
    },
    {
      "cell_type": "code",
      "source": [
        "for num in v1.split(\" \"):\n",
        "  if(exp2.match(num) is not None):\n",
        "    print(num)"
      ],
      "metadata": {
        "colab": {
          "base_uri": "https://localhost:8080/"
        },
        "id": "miNVH4Sh4ZUk",
        "outputId": "342dd34f-f590-4c39-a5f7-584d350eece8"
      },
      "execution_count": null,
      "outputs": [
        {
          "output_type": "stream",
          "name": "stdout",
          "text": [
            "1234567890\n",
            "9760357763\n"
          ]
        }
      ]
    },
    {
      "cell_type": "code",
      "source": [],
      "metadata": {
        "id": "cavAsqJh4mBV"
      },
      "execution_count": null,
      "outputs": []
    }
  ]
}